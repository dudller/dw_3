{
  "nbformat": 4,
  "nbformat_minor": 0,
  "metadata": {
    "colab": {
      "name": "Day4.ipynb",
      "provenance": [],
      "collapsed_sections": [],
      "mount_file_id": "1AyUfP9ZAPBs2B6U_nphGadv7uI02r0S4",
      "authorship_tag": "ABX9TyOWowpMfWj0WiN7tggO4oSe",
      "include_colab_link": true
    },
    "kernelspec": {
      "name": "python3",
      "display_name": "Python 3"
    },
    "accelerator": "GPU"
  },
  "cells": [
    {
      "cell_type": "markdown",
      "metadata": {
        "id": "view-in-github",
        "colab_type": "text"
      },
      "source": [
        "<a href=\"https://colab.research.google.com/github/dudller/dw_3/blob/master/Day4.ipynb\" target=\"_parent\"><img src=\"https://colab.research.google.com/assets/colab-badge.svg\" alt=\"Open In Colab\"/></a>"
      ]
    },
    {
      "cell_type": "code",
      "metadata": {
        "id": "G0qD7AM2Cp-O",
        "colab_type": "code",
        "colab": {}
      },
      "source": [
        "import pandas as pd\n",
        "import tensorflow as tf\n",
        "import numpy as np\n",
        "from tensorflow.keras.models import Sequential\n",
        "from tensorflow.keras.layers import Conv2D,Flatten, MaxPool2D, Dense, Dropout\n",
        "from tensorflow.keras.utils import to_categorical\n",
        "import os\n",
        "import datetime\n",
        "import matplotlib.pyplot as plt\n",
        "from skimage import color,exposure\n",
        "from sklearn.metrics import accuracy_score\n",
        "%load_ext tensorboard"
      ],
      "execution_count": 0,
      "outputs": []
    },
    {
      "cell_type": "code",
      "metadata": {
        "id": "J9X3WoW8DeoO",
        "colab_type": "code",
        "outputId": "eb0a0b28-90d7-46a9-c234-ed548ed58aa6",
        "colab": {
          "base_uri": "https://localhost:8080/",
          "height": 34
        }
      },
      "source": [
        "cd '/content/drive/My Drive/Colab Notebooks/dw_matrix/part3/dw_3'"
      ],
      "execution_count": 2,
      "outputs": [
        {
          "output_type": "stream",
          "text": [
            "/content/drive/My Drive/Colab Notebooks/dw_matrix/part3/dw_3\n"
          ],
          "name": "stdout"
        }
      ]
    },
    {
      "cell_type": "code",
      "metadata": {
        "id": "9-NrwvfsEPrj",
        "colab_type": "code",
        "colab": {}
      },
      "source": [
        "train=pd.read_pickle('data/train.p')\n",
        "X_train,y_train = train['features'],train['labels']\n",
        "test=pd.read_pickle('data/test.p')\n",
        "X_test,y_test = test['features'],test['labels']\n",
        "\n",
        "names=pd.read_csv('data/names.csv')"
      ],
      "execution_count": 0,
      "outputs": []
    },
    {
      "cell_type": "code",
      "metadata": {
        "id": "qOWP2CqYEsGu",
        "colab_type": "code",
        "colab": {}
      },
      "source": [
        "y_train,y_test=to_categorical(y_train),to_categorical(y_test)"
      ],
      "execution_count": 0,
      "outputs": []
    },
    {
      "cell_type": "code",
      "metadata": {
        "id": "KFbj86j7FOmo",
        "colab_type": "code",
        "colab": {}
      },
      "source": [
        "input_shape=X_train.shape[1:]\n",
        "output=y_train.shape[1]"
      ],
      "execution_count": 0,
      "outputs": []
    },
    {
      "cell_type": "code",
      "metadata": {
        "id": "ouuAngbeHm3m",
        "colab_type": "code",
        "colab": {}
      },
      "source": [
        "def get_cnn_1(input_shape,output):\n",
        "  return Sequential([\n",
        "       Conv2D(filters=64,kernel_size=(3,3),input_shape=input_shape,activation='relu'),\n",
        "       Flatten(),\n",
        "       Dense(output,activation='softmax')           \n",
        "        ])\n",
        "def train_model(X_train,y_train,model,fit_params={}):\n",
        "  model.compile(loss=\"categorical_crossentropy\",optimizer='adam',metrics=['accuracy'])\n",
        "  logdir=os.path.join('logs',datetime.datetime.now().strftime('%Y%m%d-%H%M%S'))\n",
        "  tensorboard_callback=tf.keras.callbacks.TensorBoard(logdir,histogram_freq=1)\n",
        "  model.fit(X_train,y_train,\n",
        "            batch_size=fit_params.get('batch_size',128),\n",
        "            epochs=fit_params.get('epochs',5),\n",
        "            verbose=fit_params.get('verbose',1),\n",
        "            validation_data=fit_params.get('val_data',(X_train,y_train)),\n",
        "            callbacks=[tensorboard_callback]\n",
        "            )\n",
        "  return model"
      ],
      "execution_count": 0,
      "outputs": []
    },
    {
      "cell_type": "code",
      "metadata": {
        "id": "RxSsFyMGI3jD",
        "colab_type": "code",
        "colab": {}
      },
      "source": [
        "model=get_cnn_1(input_shape,output)\n",
        "#logdir=train_model(X_train,y_train,model)"
      ],
      "execution_count": 0,
      "outputs": []
    },
    {
      "cell_type": "code",
      "metadata": {
        "id": "7-4KgEZZMfz9",
        "colab_type": "code",
        "colab": {}
      },
      "source": [
        "def get_cnn_2(input_shape,output):\n",
        "  return Sequential([\n",
        "       Conv2D(filters=32,kernel_size=(3,3),input_shape=input_shape,activation='relu'),\n",
        "       MaxPool2D(),\n",
        "       Dropout(0.5),\n",
        "       Conv2D(filters=64,kernel_size=(3,3),activation='relu'),\n",
        "       MaxPool2D(),\n",
        "       Dropout(0.3),\n",
        "       Flatten(),\n",
        "       Dense(1024,activation='relu') ,\n",
        "       Dropout(0.5),\n",
        "       Dense(output,activation='softmax')           \n",
        "        ])"
      ],
      "execution_count": 0,
      "outputs": []
    },
    {
      "cell_type": "code",
      "metadata": {
        "id": "rj4UBhsDNfx7",
        "colab_type": "code",
        "outputId": "3d82675a-99fd-45a8-b8f4-d07e5dd85583",
        "colab": {
          "base_uri": "https://localhost:8080/",
          "height": 857
        }
      },
      "source": [
        "model2=get_cnn_2(input_shape,output)\n",
        "params={\n",
        "    'epochs':25\n",
        "}\n",
        "T_model=train_model(X_train,y_train,model2,params)"
      ],
      "execution_count": 9,
      "outputs": [
        {
          "output_type": "stream",
          "text": [
            "Epoch 1/25\n",
            "272/272 [==============================] - 3s 12ms/step - loss: 10.1904 - accuracy: 0.0677 - val_loss: 3.3494 - val_accuracy: 0.1024\n",
            "Epoch 2/25\n",
            "272/272 [==============================] - 3s 11ms/step - loss: 3.2090 - accuracy: 0.1450 - val_loss: 2.9419 - val_accuracy: 0.2229\n",
            "Epoch 3/25\n",
            "272/272 [==============================] - 3s 11ms/step - loss: 2.5996 - accuracy: 0.2839 - val_loss: 2.0446 - val_accuracy: 0.4085\n",
            "Epoch 4/25\n",
            "272/272 [==============================] - 3s 11ms/step - loss: 2.0961 - accuracy: 0.3723 - val_loss: 1.6671 - val_accuracy: 0.5133\n",
            "Epoch 5/25\n",
            "272/272 [==============================] - 3s 11ms/step - loss: 1.7814 - accuracy: 0.4452 - val_loss: 1.3075 - val_accuracy: 0.6011\n",
            "Epoch 6/25\n",
            "272/272 [==============================] - 3s 11ms/step - loss: 1.4545 - accuracy: 0.5344 - val_loss: 0.8889 - val_accuracy: 0.7342\n",
            "Epoch 7/25\n",
            "272/272 [==============================] - 3s 11ms/step - loss: 1.0548 - accuracy: 0.6617 - val_loss: 0.5084 - val_accuracy: 0.8641\n",
            "Epoch 8/25\n",
            "272/272 [==============================] - 3s 11ms/step - loss: 0.7848 - accuracy: 0.7521 - val_loss: 0.3037 - val_accuracy: 0.9203\n",
            "Epoch 9/25\n",
            "272/272 [==============================] - 3s 11ms/step - loss: 0.6448 - accuracy: 0.7931 - val_loss: 0.2439 - val_accuracy: 0.9390\n",
            "Epoch 10/25\n",
            "272/272 [==============================] - 3s 11ms/step - loss: 0.5465 - accuracy: 0.8252 - val_loss: 0.1909 - val_accuracy: 0.9607\n",
            "Epoch 11/25\n",
            "272/272 [==============================] - 3s 11ms/step - loss: 0.4676 - accuracy: 0.8510 - val_loss: 0.1479 - val_accuracy: 0.9605\n",
            "Epoch 12/25\n",
            "272/272 [==============================] - 3s 11ms/step - loss: 0.4313 - accuracy: 0.8645 - val_loss: 0.1180 - val_accuracy: 0.9755\n",
            "Epoch 13/25\n",
            "272/272 [==============================] - 3s 11ms/step - loss: 0.3805 - accuracy: 0.8795 - val_loss: 0.0915 - val_accuracy: 0.9807\n",
            "Epoch 14/25\n",
            "272/272 [==============================] - 3s 11ms/step - loss: 0.3632 - accuracy: 0.8870 - val_loss: 0.0802 - val_accuracy: 0.9786\n",
            "Epoch 15/25\n",
            "272/272 [==============================] - 3s 11ms/step - loss: 0.3395 - accuracy: 0.8945 - val_loss: 0.0709 - val_accuracy: 0.9820\n",
            "Epoch 16/25\n",
            "272/272 [==============================] - 3s 11ms/step - loss: 0.3141 - accuracy: 0.9036 - val_loss: 0.0654 - val_accuracy: 0.9831\n",
            "Epoch 17/25\n",
            "272/272 [==============================] - 3s 11ms/step - loss: 0.2866 - accuracy: 0.9111 - val_loss: 0.0532 - val_accuracy: 0.9852\n",
            "Epoch 18/25\n",
            "272/272 [==============================] - 3s 11ms/step - loss: 0.2921 - accuracy: 0.9122 - val_loss: 0.0433 - val_accuracy: 0.9911\n",
            "Epoch 19/25\n",
            "272/272 [==============================] - 3s 11ms/step - loss: 0.2873 - accuracy: 0.9142 - val_loss: 0.0490 - val_accuracy: 0.9882\n",
            "Epoch 20/25\n",
            "272/272 [==============================] - 3s 11ms/step - loss: 0.2628 - accuracy: 0.9214 - val_loss: 0.0408 - val_accuracy: 0.9905\n",
            "Epoch 21/25\n",
            "272/272 [==============================] - 3s 11ms/step - loss: 0.2751 - accuracy: 0.9204 - val_loss: 0.0481 - val_accuracy: 0.9882\n",
            "Epoch 22/25\n",
            "272/272 [==============================] - 3s 11ms/step - loss: 0.2781 - accuracy: 0.9177 - val_loss: 0.0558 - val_accuracy: 0.9836\n",
            "Epoch 23/25\n",
            "272/272 [==============================] - 3s 11ms/step - loss: 0.2364 - accuracy: 0.9318 - val_loss: 0.0405 - val_accuracy: 0.9890\n",
            "Epoch 24/25\n",
            "272/272 [==============================] - 3s 11ms/step - loss: 0.2598 - accuracy: 0.9264 - val_loss: 0.0318 - val_accuracy: 0.9936\n",
            "Epoch 25/25\n",
            "272/272 [==============================] - 3s 11ms/step - loss: 0.2498 - accuracy: 0.9288 - val_loss: 0.0507 - val_accuracy: 0.9841\n"
          ],
          "name": "stdout"
        }
      ]
    },
    {
      "cell_type": "code",
      "metadata": {
        "id": "w5OoULwaOBtz",
        "colab_type": "code",
        "colab": {}
      },
      "source": [
        "#%tensorboard --logdir logs"
      ],
      "execution_count": 0,
      "outputs": []
    },
    {
      "cell_type": "code",
      "metadata": {
        "id": "UqFB7pbHOp29",
        "colab_type": "code",
        "colab": {}
      },
      "source": [
        "names = names.to_dict()['b']\n"
      ],
      "execution_count": 0,
      "outputs": []
    },
    {
      "cell_type": "code",
      "metadata": {
        "id": "SDKbKGhWOu6Q",
        "colab_type": "code",
        "colab": {
          "base_uri": "https://localhost:8080/",
          "height": 283
        },
        "outputId": "edddc7d7-2651-41dd-804e-a54f331419a3"
      },
      "source": [
        "plt.imshow(X_test[400])"
      ],
      "execution_count": 12,
      "outputs": [
        {
          "output_type": "execute_result",
          "data": {
            "text/plain": [
              "<matplotlib.image.AxesImage at 0x7fb7d6609978>"
            ]
          },
          "metadata": {
            "tags": []
          },
          "execution_count": 12
        },
        {
          "output_type": "display_data",
          "data": {
            "image/png": "[encoded data removed]",
            "text/plain": [
              "<Figure size 432x288 with 1 Axes>"
            ]
          },
          "metadata": {
            "tags": []
          }
        }
      ]
    },
    {
      "cell_type": "code",
      "metadata": {
        "id": "LA2bizHuNpAC",
        "colab_type": "code",
        "colab": {}
      },
      "source": [
        "pred=T_model.predict(X_test)\n"
      ],
      "execution_count": 0,
      "outputs": []
    },
    {
      "cell_type": "code",
      "metadata": {
        "id": "BT7O6YkpOBhm",
        "colab_type": "code",
        "colab": {
          "base_uri": "https://localhost:8080/",
          "height": 34
        },
        "outputId": "b10098f6-088c-4df7-bc87-80b63c2a0bfd"
      },
      "source": [
        "names[np.argmax(pred[400])]"
      ],
      "execution_count": 14,
      "outputs": [
        {
          "output_type": "execute_result",
          "data": {
            "text/plain": [
              "'Speed limit (30km/h)'"
            ]
          },
          "metadata": {
            "tags": []
          },
          "execution_count": 14
        }
      ]
    },
    {
      "cell_type": "code",
      "metadata": {
        "id": "RZ0_SQKePGcl",
        "colab_type": "code",
        "colab": {
          "base_uri": "https://localhost:8080/",
          "height": 283
        },
        "outputId": "1a95fa66-1fb7-419e-8bc8-d1c815406350"
      },
      "source": [
        "plt.bar(range(43),pred[400])"
      ],
      "execution_count": 15,
      "outputs": [
        {
          "output_type": "execute_result",
          "data": {
            "text/plain": [
              "<BarContainer object of 43 artists>"
            ]
          },
          "metadata": {
            "tags": []
          },
          "execution_count": 15
        },
        {
          "output_type": "display_data",
          "data": {
            "image/png": "[encoded data removed]",
            "text/plain": [
              "<Figure size 432x288 with 1 Axes>"
            ]
          },
          "metadata": {
            "tags": []
          }
        }
      ]
    },
    {
      "cell_type": "code",
      "metadata": {
        "id": "YLQTyC-JPoFv",
        "colab_type": "code",
        "colab": {}
      },
      "source": [
        "def predict_and_score(model,X_test,y_test,scoring=accuracy_score):\n",
        "  y_test_norm=np.argmax(y_test,axis=1)\n",
        "  pred=model.predict(X_test)\n",
        "  pred_norm=np.argmax(pred,axis=1)\n",
        "  return scoring(y_test_norm,pred_norm)"
      ],
      "execution_count": 0,
      "outputs": []
    },
    {
      "cell_type": "code",
      "metadata": {
        "id": "ICJourSMQ2-w",
        "colab_type": "code",
        "colab": {
          "base_uri": "https://localhost:8080/",
          "height": 34
        },
        "outputId": "b5f1bd5b-8c26-4e84-b8f7-8c4d85f9c6a0"
      },
      "source": [
        "predict_and_score(T_model,X_test,y_test)"
      ],
      "execution_count": 17,
      "outputs": [
        {
          "output_type": "execute_result",
          "data": {
            "text/plain": [
              "0.8945578231292517"
            ]
          },
          "metadata": {
            "tags": []
          },
          "execution_count": 17
        }
      ]
    },
    {
      "cell_type": "code",
      "metadata": {
        "id": "2Sg-h0_jSunj",
        "colab_type": "code",
        "colab": {}
      },
      "source": [
        "def train_and_pred(model):\n",
        "  T_model=train_model(X_train,y_train,model2,params)\n",
        "  return predict_and_score(T_model,X_test,y_test)\n",
        "\n",
        "def get_cnn_3(input_shape,output):\n",
        "  return Sequential([\n",
        "       Conv2D(filters=32,kernel_size=(3,3),input_shape=input_shape,activation='relu'),\n",
        "       Conv2D(filters=32,kernel_size=(3,3),activation='relu'),\n",
        "       MaxPool2D(),\n",
        "       Dropout(0.3),\n",
        "       Conv2D(filters=64,kernel_size=(3,3),activation='relu'),\n",
        "       Conv2D(filters=64,kernel_size=(3,3),activation='relu'),\n",
        "       Dropout(0.3),\n",
        "       MaxPool2D(),\n",
        "       Flatten(),\n",
        "       Dense(124,activation='relu'),\n",
        "       Dropout(0.3),\n",
        "       Dense(output,activation='softmax')           \n",
        "        ])"
      ],
      "execution_count": 0,
      "outputs": []
    },
    {
      "cell_type": "code",
      "metadata": {
        "id": "iXuAl5q4UlK0",
        "colab_type": "code",
        "colab": {
          "base_uri": "https://localhost:8080/",
          "height": 202
        },
        "outputId": "21901ae1-fd06-4859-f2ab-706fa2835489"
      },
      "source": [
        "params={\n",
        "    'epochs':5\n",
        "}\n",
        "model3=get_cnn_3(input_shape,output)\n",
        "train_and_pred(model3)"
      ],
      "execution_count": 19,
      "outputs": [
        {
          "output_type": "stream",
          "text": [
            "Epoch 1/5\n",
            "272/272 [==============================] - 3s 12ms/step - loss: 0.2851 - accuracy: 0.9253 - val_loss: 0.0434 - val_accuracy: 0.9880\n",
            "Epoch 2/5\n",
            "272/272 [==============================] - 3s 11ms/step - loss: 0.2523 - accuracy: 0.9333 - val_loss: 0.0244 - val_accuracy: 0.9931\n",
            "Epoch 3/5\n",
            "272/272 [==============================] - 3s 11ms/step - loss: 0.2733 - accuracy: 0.9269 - val_loss: 0.0538 - val_accuracy: 0.9852\n",
            "Epoch 4/5\n",
            "272/272 [==============================] - 3s 11ms/step - loss: 0.2486 - accuracy: 0.9336 - val_loss: 0.0237 - val_accuracy: 0.9930\n",
            "Epoch 5/5\n",
            "272/272 [==============================] - 3s 11ms/step - loss: 0.2401 - accuracy: 0.9388 - val_loss: 0.0218 - val_accuracy: 0.9944\n"
          ],
          "name": "stdout"
        },
        {
          "output_type": "execute_result",
          "data": {
            "text/plain": [
              "0.9360544217687075"
            ]
          },
          "metadata": {
            "tags": []
          },
          "execution_count": 19
        }
      ]
    },
    {
      "cell_type": "code",
      "metadata": {
        "id": "wST5UlvlU2SF",
        "colab_type": "code",
        "colab": {}
      },
      "source": [
        "\n",
        "def get_cnn_4(input_shape,output):\n",
        "  return Sequential([\n",
        "       Conv2D(filters=32,kernel_size=(3,3),input_shape=input_shape,activation='relu',padding='same'),\n",
        "       Conv2D(filters=32,kernel_size=(3,3),activation='relu'),\n",
        "       MaxPool2D(),\n",
        "       Dropout(0.3),\n",
        "       Conv2D(filters=64,kernel_size=(3,3),activation='relu',padding='same'),\n",
        "       Conv2D(filters=64,kernel_size=(3,3),activation='relu'),\n",
        "       MaxPool2D(),\n",
        "       Dropout(0.3),\n",
        "       Conv2D(filters=96,kernel_size=(3,3),activation='relu',padding='same'),\n",
        "       Conv2D(filters=96,kernel_size=(3,3),activation='relu'),\n",
        "       MaxPool2D(),\n",
        "       Dropout(0.3),\n",
        "       Flatten(),\n",
        "       Dense(124,activation='relu'),\n",
        "       Dropout(0.3),\n",
        "\n",
        "       Dense(output,activation='softmax')           \n",
        "        ])"
      ],
      "execution_count": 0,
      "outputs": []
    },
    {
      "cell_type": "code",
      "metadata": {
        "id": "KsgX4ki5Wa5_",
        "colab_type": "code",
        "colab": {
          "base_uri": "https://localhost:8080/",
          "height": 202
        },
        "outputId": "e2f0a3c9-2374-4a54-cd2c-a94f8e7bd639"
      },
      "source": [
        "model4=get_cnn_4(input_shape,output)\n",
        "train_and_pred(model4)"
      ],
      "execution_count": 21,
      "outputs": [
        {
          "output_type": "stream",
          "text": [
            "Epoch 1/5\n",
            "272/272 [==============================] - 3s 11ms/step - loss: 0.2510 - accuracy: 0.9404 - val_loss: 0.0291 - val_accuracy: 0.9916\n",
            "Epoch 2/5\n",
            "272/272 [==============================] - 3s 11ms/step - loss: 0.2692 - accuracy: 0.9360 - val_loss: 0.0203 - val_accuracy: 0.9953\n",
            "Epoch 3/5\n",
            "272/272 [==============================] - 3s 11ms/step - loss: 0.2668 - accuracy: 0.9337 - val_loss: 0.0235 - val_accuracy: 0.9949\n",
            "Epoch 4/5\n",
            "272/272 [==============================] - 3s 11ms/step - loss: 0.2505 - accuracy: 0.9382 - val_loss: 0.0203 - val_accuracy: 0.9943\n",
            "Epoch 5/5\n",
            "272/272 [==============================] - 3s 11ms/step - loss: 0.2733 - accuracy: 0.9340 - val_loss: 0.0240 - val_accuracy: 0.9939\n"
          ],
          "name": "stdout"
        },
        {
          "output_type": "execute_result",
          "data": {
            "text/plain": [
              "0.9405895691609978"
            ]
          },
          "metadata": {
            "tags": []
          },
          "execution_count": 21
        }
      ]
    },
    {
      "cell_type": "code",
      "metadata": {
        "id": "5fpV6OFVWhec",
        "colab_type": "code",
        "colab": {}
      },
      "source": [
        "\n",
        "def get_cnn_5(input_shape,output):\n",
        "  return Sequential([\n",
        "       Conv2D(filters=32,kernel_size=(3,3),input_shape=input_shape,activation='relu',padding='same'),\n",
        "       Conv2D(filters=32,kernel_size=(3,3),activation='relu'),\n",
        "       MaxPool2D(),\n",
        "       Dropout(0.3),\n",
        "       Conv2D(filters=64,kernel_size=(3,3),activation='relu',padding='same'),\n",
        "       Conv2D(filters=64,kernel_size=(3,3),activation='relu'),\n",
        "       MaxPool2D(),\n",
        "       Dropout(0.3),\n",
        "       Conv2D(filters=64,kernel_size=(3,3),activation='relu',padding='same'),\n",
        "       Conv2D(filters=64,kernel_size=(3,3),activation='relu'),\n",
        "       MaxPool2D(),\n",
        "       Dropout(0.3),\n",
        "       Flatten(),\n",
        "       Dense(1024,activation='relu'),\n",
        "       Dropout(0.3),\n",
        "       Dense(1024,activation='relu'),\n",
        "       Dropout(0.3),\n",
        "\n",
        "       Dense(output,activation='softmax')           \n",
        "        ])"
      ],
      "execution_count": 0,
      "outputs": []
    },
    {
      "cell_type": "code",
      "metadata": {
        "id": "CsLERqniW-yr",
        "colab_type": "code",
        "colab": {
          "base_uri": "https://localhost:8080/",
          "height": 202
        },
        "outputId": "ef3159f4-edb1-4b51-9ab3-03aa11873ee7"
      },
      "source": [
        "model5=get_cnn_5(input_shape,output)\n",
        "train_and_pred(model5)"
      ],
      "execution_count": 23,
      "outputs": [
        {
          "output_type": "stream",
          "text": [
            "Epoch 1/5\n",
            "272/272 [==============================] - 3s 12ms/step - loss: 0.2700 - accuracy: 0.9392 - val_loss: 0.0198 - val_accuracy: 0.9951\n",
            "Epoch 2/5\n",
            "272/272 [==============================] - 3s 11ms/step - loss: 0.2941 - accuracy: 0.9354 - val_loss: 0.0207 - val_accuracy: 0.9939\n",
            "Epoch 3/5\n",
            "272/272 [==============================] - 3s 11ms/step - loss: 0.2394 - accuracy: 0.9427 - val_loss: 0.0260 - val_accuracy: 0.9933\n",
            "Epoch 4/5\n",
            "272/272 [==============================] - 3s 11ms/step - loss: 0.2290 - accuracy: 0.9448 - val_loss: 0.0160 - val_accuracy: 0.9965\n",
            "Epoch 5/5\n",
            "272/272 [==============================] - 3s 11ms/step - loss: 0.2655 - accuracy: 0.9376 - val_loss: 0.0402 - val_accuracy: 0.9899\n"
          ],
          "name": "stdout"
        },
        {
          "output_type": "execute_result",
          "data": {
            "text/plain": [
              "0.9027210884353741"
            ]
          },
          "metadata": {
            "tags": []
          },
          "execution_count": 23
        }
      ]
    },
    {
      "cell_type": "code",
      "metadata": {
        "id": "6KDqk3M5XCrG",
        "colab_type": "code",
        "colab": {}
      },
      "source": [
        "X_train_gray =color.rgb2gray(X_train).reshape(-1,32,32,1)\n",
        "X_test_gray=color.rgb2gray(X_test).reshape(-1,32,32,1)\n"
      ],
      "execution_count": 0,
      "outputs": []
    },
    {
      "cell_type": "code",
      "metadata": {
        "id": "uyz6vxgPX12s",
        "colab_type": "code",
        "colab": {
          "base_uri": "https://localhost:8080/",
          "height": 202
        },
        "outputId": "3b2421c3-1928-4d8b-f529-419185e35f1b"
      },
      "source": [
        "model6=get_cnn_5((32,32,1),output)\n",
        "T_model6=train_model(X_train_gray,y_train,model6)\n",
        "predict_and_score(T_model6,X_test_gray,y_test)"
      ],
      "execution_count": 25,
      "outputs": [
        {
          "output_type": "stream",
          "text": [
            "Epoch 1/5\n",
            "272/272 [==============================] - 5s 17ms/step - loss: 2.4976 - accuracy: 0.2930 - val_loss: 0.7291 - val_accuracy: 0.7574\n",
            "Epoch 2/5\n",
            "272/272 [==============================] - 4s 16ms/step - loss: 0.5852 - accuracy: 0.8090 - val_loss: 0.1522 - val_accuracy: 0.9554\n",
            "Epoch 3/5\n",
            "272/272 [==============================] - 4s 16ms/step - loss: 0.2745 - accuracy: 0.9124 - val_loss: 0.0786 - val_accuracy: 0.9779\n",
            "Epoch 4/5\n",
            "272/272 [==============================] - 4s 16ms/step - loss: 0.1828 - accuracy: 0.9429 - val_loss: 0.0525 - val_accuracy: 0.9836\n",
            "Epoch 5/5\n",
            "272/272 [==============================] - 4s 16ms/step - loss: 0.1352 - accuracy: 0.9568 - val_loss: 0.0288 - val_accuracy: 0.9909\n"
          ],
          "name": "stdout"
        },
        {
          "output_type": "execute_result",
          "data": {
            "text/plain": [
              "0.964172335600907"
            ]
          },
          "metadata": {
            "tags": []
          },
          "execution_count": 25
        }
      ]
    },
    {
      "cell_type": "code",
      "metadata": {
        "id": "TQFM5b_nbd6w",
        "colab_type": "code",
        "colab": {}
      },
      "source": [
        "def get_cnn_6(input_shape,output):\n",
        "  return Sequential([\n",
        "       Conv2D(filters=32,kernel_size=(3,3),input_shape=input_shape,activation='relu',padding='same'),\n",
        "       Conv2D(filters=32,kernel_size=(3,3),activation='relu'),\n",
        "       MaxPool2D(),\n",
        "       Dropout(0.3),\n",
        "       Conv2D(filters=64,kernel_size=(3,3),activation='relu',padding='same'),\n",
        "       Conv2D(filters=64,kernel_size=(3,3),activation='relu'),\n",
        "       MaxPool2D(),\n",
        "       Dropout(0.35),\n",
        "       Conv2D(filters=124,kernel_size=(3,3),activation='relu',padding='same'),\n",
        "       Conv2D(filters=64,kernel_size=(3,3),activation='relu'),\n",
        "       MaxPool2D(),\n",
        "       Dropout(0.35),\n",
        "       Flatten(),\n",
        "       Dense(1024,activation='relu'),\n",
        "       Dropout(0.3),\n",
        "       Dense(512,activation='relu'),\n",
        "       Dropout(0.25),\n",
        "       Dense(512,activation='relu'),\n",
        "       Dropout(0.3),\n",
        "\n",
        "       Dense(output,activation='softmax')           \n",
        "        ])"
      ],
      "execution_count": 0,
      "outputs": []
    },
    {
      "cell_type": "code",
      "metadata": {
        "id": "joLsmIUqdGa4",
        "colab_type": "code",
        "colab": {
          "base_uri": "https://localhost:8080/",
          "height": 202
        },
        "outputId": "09200358-e950-4b44-83df-641649dceb3e"
      },
      "source": [
        "model7=get_cnn_6((32,32,1),output)\n",
        "T_model7=train_model(X_train_gray,y_train,model7)\n",
        "predict_and_score(T_model7,X_test_gray,y_test)"
      ],
      "execution_count": 35,
      "outputs": [
        {
          "output_type": "stream",
          "text": [
            "Epoch 1/5\n",
            "272/272 [==============================] - 5s 17ms/step - loss: 2.7671 - accuracy: 0.2142 - val_loss: 1.0650 - val_accuracy: 0.6562\n",
            "Epoch 2/5\n",
            "272/272 [==============================] - 4s 16ms/step - loss: 0.8045 - accuracy: 0.7353 - val_loss: 0.2185 - val_accuracy: 0.9260\n",
            "Epoch 3/5\n",
            "272/272 [==============================] - 5s 17ms/step - loss: 0.3675 - accuracy: 0.8838 - val_loss: 0.1034 - val_accuracy: 0.9666\n",
            "Epoch 4/5\n",
            "272/272 [==============================] - 4s 16ms/step - loss: 0.2356 - accuracy: 0.9241 - val_loss: 0.0489 - val_accuracy: 0.9864\n",
            "Epoch 5/5\n",
            "272/272 [==============================] - 4s 16ms/step - loss: 0.1757 - accuracy: 0.9460 - val_loss: 0.0384 - val_accuracy: 0.9896\n"
          ],
          "name": "stdout"
        },
        {
          "output_type": "execute_result",
          "data": {
            "text/plain": [
              "0.9732426303854875"
            ]
          },
          "metadata": {
            "tags": []
          },
          "execution_count": 35
        }
      ]
    },
    {
      "cell_type": "code",
      "metadata": {
        "id": "moH0Vq73eBj5",
        "colab_type": "code",
        "colab": {
          "base_uri": "https://localhost:8080/",
          "height": 283
        },
        "outputId": "8c4b0a2d-a182-4cc5-c8fc-35588cda4a64"
      },
      "source": [
        "plt.imshow(color.rgb2gray(X_train[0]),cmap=plt.get_cmap('gray'))"
      ],
      "execution_count": 47,
      "outputs": [
        {
          "output_type": "execute_result",
          "data": {
            "text/plain": [
              "<matplotlib.image.AxesImage at 0x7fb7a9bc4dd8>"
            ]
          },
          "metadata": {
            "tags": []
          },
          "execution_count": 47
        },
        {
          "output_type": "display_data",
          "data": {
            "image/png": "[encoded data removed]",
            "text/plain": [
              "<Figure size 432x288 with 1 Axes>"
            ]
          },
          "metadata": {
            "tags": []
          }
        }
      ]
    },
    {
      "cell_type": "code",
      "metadata": {
        "id": "9SbHV9G7e7oc",
        "colab_type": "code",
        "colab": {}
      },
      "source": [
        ""
      ],
      "execution_count": 0,
      "outputs": []
    }
  ]
}